{
  "nbformat": 4,
  "nbformat_minor": 0,
  "metadata": {
    "colab": {
      "provenance": [],
      "authorship_tag": "ABX9TyMnCiXAJANhJXKr/0OwnCqA",
      "include_colab_link": true
    },
    "kernelspec": {
      "name": "python3",
      "display_name": "Python 3"
    },
    "language_info": {
      "name": "python"
    }
  },
  "cells": [
    {
      "cell_type": "markdown",
      "metadata": {
        "id": "view-in-github",
        "colab_type": "text"
      },
      "source": [
        "<a href=\"https://colab.research.google.com/github/Chocolate-Milkman/Calculator-Main/blob/main/Module%203%20-%20%237)%20Pets...And%20more!%20CLO3%2C7%2C%20MLO5.ipynb\" target=\"_parent\"><img src=\"https://colab.research.google.com/assets/colab-badge.svg\" alt=\"Open In Colab\"/></a>"
      ]
    },
    {
      "cell_type": "code",
      "execution_count": 1,
      "metadata": {
        "colab": {
          "base_uri": "https://localhost:8080/"
        },
        "id": "IGGVTM5AksYP",
        "outputId": "a8dfe5e8-3de2-47c8-ec85-a5b2e7bf6a2e"
      },
      "outputs": [
        {
          "output_type": "stream",
          "name": "stdout",
          "text": [
            "Enter a fruit name to add: apple\n",
            "Enter the calories for apple: 2038\n",
            "Would you like to add another entry? (yes/no): no\n",
            "\n",
            "The fruit with the lowest calories is: Peach (59 calories)\n",
            "The average calories is 404.33\n",
            "\n",
            "Fruits with calories less than the average:\n",
            "Apple: 95\n",
            "Banana: 105\n",
            "Orange: 62\n",
            "Grapes: 67\n",
            "Peach: 59\n"
          ]
        }
      ],
      "source": [
        "\"\"\"\n",
        "Assignment: Dictionary of key-value pairs (Fruit and Calories)\n",
        "Each value must be numeric. The program allows the user to add more entries,\n",
        "finds the fruit with the lowest calories, calculates the average, and prints\n",
        "all fruits with calories less than the average. Each part is in its own function.\n",
        "\"\"\"\n",
        "\n",
        "def initialize_fruit_dict():\n",
        "    # Initialize with some fruits and their calorie counts\n",
        "    fruit_dict = {\n",
        "        \"Apple\": 95,\n",
        "        \"Banana\": 105,\n",
        "        \"Orange\": 62,\n",
        "        \"Grapes\": 67,\n",
        "        \"Peach\": 59\n",
        "    }\n",
        "    return fruit_dict\n",
        "\n",
        "def add_entries(fruit_dict):\n",
        "    moreEntries = \"yes\"\n",
        "    while moreEntries.lower() == \"yes\":\n",
        "        try:\n",
        "            fruit = input(\"Enter a fruit name to add: \")\n",
        "            calories = input(f\"Enter the calories for {fruit}: \")\n",
        "            # Try to convert calories to float\n",
        "            calories = float(calories)\n",
        "            fruit_dict[fruit] = calories\n",
        "            moreEntries = input(\"Would you like to add another entry? (yes/no): \")\n",
        "        except ValueError:\n",
        "            print(\"The value part must be numeric. Please try again.\")\n",
        "\n",
        "def analyze_dict(fruit_dict):\n",
        "    smallest_key = None\n",
        "    smallest_value = None\n",
        "    total = 0\n",
        "    count = 0\n",
        "    for fruit, calories in fruit_dict.items():\n",
        "        if (smallest_value is None) or (calories < smallest_value):\n",
        "            smallest_value = calories\n",
        "            smallest_key = fruit\n",
        "        total += calories\n",
        "        count += 1\n",
        "    return smallest_key, smallest_value, total, count\n",
        "\n",
        "def print_results(fruit_dict, smallest_key, smallest_value, avg):\n",
        "    print(f\"\\nThe fruit with the lowest calories is: {smallest_key} ({smallest_value} calories)\")\n",
        "    print(\"The average calories is\", format(avg, \".2f\"))\n",
        "    print(\"\\nFruits with calories less than the average:\")\n",
        "    for fruit, calories in fruit_dict.items():\n",
        "        if calories < avg:\n",
        "            print(f\"{fruit}: {calories}\")\n",
        "\n",
        "def main():\n",
        "    fruit_dict = initialize_fruit_dict()\n",
        "    add_entries(fruit_dict)\n",
        "    smallest_key, smallest_value, total, count = analyze_dict(fruit_dict)\n",
        "    avg = total / count if count > 0 else 0\n",
        "    print_results(fruit_dict, smallest_key, smallest_value, avg)\n",
        "\n",
        "if __name__ == \"__main__\":\n",
        "    main()"
      ]
    }
  ]
}